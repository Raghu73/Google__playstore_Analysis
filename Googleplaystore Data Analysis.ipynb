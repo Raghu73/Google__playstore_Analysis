{
 "cells": [
  {
   "cell_type": "code",
   "execution_count": 131,
   "id": "bf805065",
   "metadata": {},
   "outputs": [],
   "source": [
    "import numpy as np\n",
    "import pandas as  pd\n",
    "from matplotlib import pyplot as plt\n",
    "import seaborn as sns\n"
   ]
  },
  {
   "cell_type": "markdown",
   "id": "6322d410",
   "metadata": {},
   "source": [
    "step 1: Load and explore the dataset"
   ]
  },
  {
   "cell_type": "code",
   "execution_count": 50,
   "id": "b95db59d",
   "metadata": {},
   "outputs": [
    {
     "name": "stdout",
     "output_type": "stream",
     "text": [
      "                                                     App             Category  \\\n",
      "0         Photo Editor & Candy Camera & Grid & ScrapBook       ART_AND_DESIGN   \n",
      "1                                    Coloring book moana       ART_AND_DESIGN   \n",
      "2      U Launcher Lite – FREE Live Cool Themes, Hide ...       ART_AND_DESIGN   \n",
      "3                                  Sketch - Draw & Paint       ART_AND_DESIGN   \n",
      "4                  Pixel Draw - Number Art Coloring Book       ART_AND_DESIGN   \n",
      "...                                                  ...                  ...   \n",
      "10836                                   Sya9a Maroc - FR               FAMILY   \n",
      "10837                   Fr. Mike Schmitz Audio Teachings               FAMILY   \n",
      "10838                             Parkinson Exercices FR              MEDICAL   \n",
      "10839                      The SCP Foundation DB fr nn5n  BOOKS_AND_REFERENCE   \n",
      "10840      iHoroscope - 2018 Daily Horoscope & Astrology            LIFESTYLE   \n",
      "\n",
      "       Rating Reviews                Size     Installs  Type Price  \\\n",
      "0         4.1     159                 19M      10,000+  Free     0   \n",
      "1         3.9     967                 14M     500,000+  Free     0   \n",
      "2         4.7   87510                8.7M   5,000,000+  Free     0   \n",
      "3         4.5  215644                 25M  50,000,000+  Free     0   \n",
      "4         4.3     967                2.8M     100,000+  Free     0   \n",
      "...       ...     ...                 ...          ...   ...   ...   \n",
      "10836     4.5      38                 53M       5,000+  Free     0   \n",
      "10837     5.0       4                3.6M         100+  Free     0   \n",
      "10838     NaN       3                9.5M       1,000+  Free     0   \n",
      "10839     4.5     114  Varies with device       1,000+  Free     0   \n",
      "10840     4.5  398307                 19M  10,000,000+  Free     0   \n",
      "\n",
      "      Content Rating                     Genres      Last Updated  \\\n",
      "0           Everyone               Art & Design   January 7, 2018   \n",
      "1           Everyone  Art & Design;Pretend Play  January 15, 2018   \n",
      "2           Everyone               Art & Design    August 1, 2018   \n",
      "3               Teen               Art & Design      June 8, 2018   \n",
      "4           Everyone    Art & Design;Creativity     June 20, 2018   \n",
      "...              ...                        ...               ...   \n",
      "10836       Everyone                  Education     July 25, 2017   \n",
      "10837       Everyone                  Education      July 6, 2018   \n",
      "10838       Everyone                    Medical  January 20, 2017   \n",
      "10839     Mature 17+          Books & Reference  January 19, 2015   \n",
      "10840       Everyone                  Lifestyle     July 25, 2018   \n",
      "\n",
      "              Current Ver         Android Ver  \n",
      "0                   1.0.0        4.0.3 and up  \n",
      "1                   2.0.0        4.0.3 and up  \n",
      "2                   1.2.4        4.0.3 and up  \n",
      "3      Varies with device          4.2 and up  \n",
      "4                     1.1          4.4 and up  \n",
      "...                   ...                 ...  \n",
      "10836                1.48          4.1 and up  \n",
      "10837                   1          4.1 and up  \n",
      "10838                   1          2.2 and up  \n",
      "10839  Varies with device  Varies with device  \n",
      "10840  Varies with device  Varies with device  \n",
      "\n",
      "[10841 rows x 13 columns]\n"
     ]
    }
   ],
   "source": [
    "dt=pd.read_csv(\"googleplaystore.csv\")\n",
    "print(df)"
   ]
  },
  {
   "cell_type": "code",
   "execution_count": 51,
   "id": "a8b22dfc",
   "metadata": {},
   "outputs": [
    {
     "data": {
      "text/html": [
       "<div>\n",
       "<style scoped>\n",
       "    .dataframe tbody tr th:only-of-type {\n",
       "        vertical-align: middle;\n",
       "    }\n",
       "\n",
       "    .dataframe tbody tr th {\n",
       "        vertical-align: top;\n",
       "    }\n",
       "\n",
       "    .dataframe thead th {\n",
       "        text-align: right;\n",
       "    }\n",
       "</style>\n",
       "<table border=\"1\" class=\"dataframe\">\n",
       "  <thead>\n",
       "    <tr style=\"text-align: right;\">\n",
       "      <th></th>\n",
       "      <th>App</th>\n",
       "      <th>Category</th>\n",
       "      <th>Rating</th>\n",
       "      <th>Reviews</th>\n",
       "      <th>Size</th>\n",
       "      <th>Installs</th>\n",
       "      <th>Type</th>\n",
       "      <th>Price</th>\n",
       "      <th>Content Rating</th>\n",
       "      <th>Genres</th>\n",
       "      <th>Last Updated</th>\n",
       "      <th>Current Ver</th>\n",
       "      <th>Android Ver</th>\n",
       "    </tr>\n",
       "  </thead>\n",
       "  <tbody>\n",
       "    <tr>\n",
       "      <th>0</th>\n",
       "      <td>Photo Editor &amp; Candy Camera &amp; Grid &amp; ScrapBook</td>\n",
       "      <td>ART_AND_DESIGN</td>\n",
       "      <td>4.1</td>\n",
       "      <td>159</td>\n",
       "      <td>19M</td>\n",
       "      <td>10,000+</td>\n",
       "      <td>Free</td>\n",
       "      <td>0</td>\n",
       "      <td>Everyone</td>\n",
       "      <td>Art &amp; Design</td>\n",
       "      <td>January 7, 2018</td>\n",
       "      <td>1.0.0</td>\n",
       "      <td>4.0.3 and up</td>\n",
       "    </tr>\n",
       "    <tr>\n",
       "      <th>1</th>\n",
       "      <td>Coloring book moana</td>\n",
       "      <td>ART_AND_DESIGN</td>\n",
       "      <td>3.9</td>\n",
       "      <td>967</td>\n",
       "      <td>14M</td>\n",
       "      <td>500,000+</td>\n",
       "      <td>Free</td>\n",
       "      <td>0</td>\n",
       "      <td>Everyone</td>\n",
       "      <td>Art &amp; Design;Pretend Play</td>\n",
       "      <td>January 15, 2018</td>\n",
       "      <td>2.0.0</td>\n",
       "      <td>4.0.3 and up</td>\n",
       "    </tr>\n",
       "    <tr>\n",
       "      <th>2</th>\n",
       "      <td>U Launcher Lite – FREE Live Cool Themes, Hide ...</td>\n",
       "      <td>ART_AND_DESIGN</td>\n",
       "      <td>4.7</td>\n",
       "      <td>87510</td>\n",
       "      <td>8.7M</td>\n",
       "      <td>5,000,000+</td>\n",
       "      <td>Free</td>\n",
       "      <td>0</td>\n",
       "      <td>Everyone</td>\n",
       "      <td>Art &amp; Design</td>\n",
       "      <td>August 1, 2018</td>\n",
       "      <td>1.2.4</td>\n",
       "      <td>4.0.3 and up</td>\n",
       "    </tr>\n",
       "    <tr>\n",
       "      <th>3</th>\n",
       "      <td>Sketch - Draw &amp; Paint</td>\n",
       "      <td>ART_AND_DESIGN</td>\n",
       "      <td>4.5</td>\n",
       "      <td>215644</td>\n",
       "      <td>25M</td>\n",
       "      <td>50,000,000+</td>\n",
       "      <td>Free</td>\n",
       "      <td>0</td>\n",
       "      <td>Teen</td>\n",
       "      <td>Art &amp; Design</td>\n",
       "      <td>June 8, 2018</td>\n",
       "      <td>Varies with device</td>\n",
       "      <td>4.2 and up</td>\n",
       "    </tr>\n",
       "    <tr>\n",
       "      <th>4</th>\n",
       "      <td>Pixel Draw - Number Art Coloring Book</td>\n",
       "      <td>ART_AND_DESIGN</td>\n",
       "      <td>4.3</td>\n",
       "      <td>967</td>\n",
       "      <td>2.8M</td>\n",
       "      <td>100,000+</td>\n",
       "      <td>Free</td>\n",
       "      <td>0</td>\n",
       "      <td>Everyone</td>\n",
       "      <td>Art &amp; Design;Creativity</td>\n",
       "      <td>June 20, 2018</td>\n",
       "      <td>1.1</td>\n",
       "      <td>4.4 and up</td>\n",
       "    </tr>\n",
       "  </tbody>\n",
       "</table>\n",
       "</div>"
      ],
      "text/plain": [
       "                                                 App        Category  Rating  \\\n",
       "0     Photo Editor & Candy Camera & Grid & ScrapBook  ART_AND_DESIGN     4.1   \n",
       "1                                Coloring book moana  ART_AND_DESIGN     3.9   \n",
       "2  U Launcher Lite – FREE Live Cool Themes, Hide ...  ART_AND_DESIGN     4.7   \n",
       "3                              Sketch - Draw & Paint  ART_AND_DESIGN     4.5   \n",
       "4              Pixel Draw - Number Art Coloring Book  ART_AND_DESIGN     4.3   \n",
       "\n",
       "  Reviews  Size     Installs  Type Price Content Rating  \\\n",
       "0     159   19M      10,000+  Free     0       Everyone   \n",
       "1     967   14M     500,000+  Free     0       Everyone   \n",
       "2   87510  8.7M   5,000,000+  Free     0       Everyone   \n",
       "3  215644   25M  50,000,000+  Free     0           Teen   \n",
       "4     967  2.8M     100,000+  Free     0       Everyone   \n",
       "\n",
       "                      Genres      Last Updated         Current Ver  \\\n",
       "0               Art & Design   January 7, 2018               1.0.0   \n",
       "1  Art & Design;Pretend Play  January 15, 2018               2.0.0   \n",
       "2               Art & Design    August 1, 2018               1.2.4   \n",
       "3               Art & Design      June 8, 2018  Varies with device   \n",
       "4    Art & Design;Creativity     June 20, 2018                 1.1   \n",
       "\n",
       "    Android Ver  \n",
       "0  4.0.3 and up  \n",
       "1  4.0.3 and up  \n",
       "2  4.0.3 and up  \n",
       "3    4.2 and up  \n",
       "4    4.4 and up  "
      ]
     },
     "execution_count": 51,
     "metadata": {},
     "output_type": "execute_result"
    }
   ],
   "source": [
    "dt.head()"
   ]
  },
  {
   "cell_type": "code",
   "execution_count": 52,
   "id": "859a8ecb",
   "metadata": {},
   "outputs": [
    {
     "data": {
      "text/html": [
       "<div>\n",
       "<style scoped>\n",
       "    .dataframe tbody tr th:only-of-type {\n",
       "        vertical-align: middle;\n",
       "    }\n",
       "\n",
       "    .dataframe tbody tr th {\n",
       "        vertical-align: top;\n",
       "    }\n",
       "\n",
       "    .dataframe thead th {\n",
       "        text-align: right;\n",
       "    }\n",
       "</style>\n",
       "<table border=\"1\" class=\"dataframe\">\n",
       "  <thead>\n",
       "    <tr style=\"text-align: right;\">\n",
       "      <th></th>\n",
       "      <th>App</th>\n",
       "      <th>Category</th>\n",
       "      <th>Rating</th>\n",
       "      <th>Reviews</th>\n",
       "      <th>Size</th>\n",
       "      <th>Installs</th>\n",
       "      <th>Type</th>\n",
       "      <th>Price</th>\n",
       "      <th>Content Rating</th>\n",
       "      <th>Genres</th>\n",
       "      <th>Last Updated</th>\n",
       "      <th>Current Ver</th>\n",
       "      <th>Android Ver</th>\n",
       "    </tr>\n",
       "  </thead>\n",
       "  <tbody>\n",
       "    <tr>\n",
       "      <th>1563</th>\n",
       "      <td>metroZONE</td>\n",
       "      <td>LIFESTYLE</td>\n",
       "      <td>4.1</td>\n",
       "      <td>47497</td>\n",
       "      <td>34M</td>\n",
       "      <td>10,000,000+</td>\n",
       "      <td>Free</td>\n",
       "      <td>0</td>\n",
       "      <td>Everyone</td>\n",
       "      <td>Lifestyle</td>\n",
       "      <td>June 8, 2018</td>\n",
       "      <td>5.3.0.54.7</td>\n",
       "      <td>5.0 and up</td>\n",
       "    </tr>\n",
       "    <tr>\n",
       "      <th>8820</th>\n",
       "      <td>DS Creator 2.0</td>\n",
       "      <td>TOOLS</td>\n",
       "      <td>1.0</td>\n",
       "      <td>2</td>\n",
       "      <td>4.4M</td>\n",
       "      <td>500+</td>\n",
       "      <td>Free</td>\n",
       "      <td>0</td>\n",
       "      <td>Everyone</td>\n",
       "      <td>Tools</td>\n",
       "      <td>March 23, 2018</td>\n",
       "      <td>2.0.180226.1</td>\n",
       "      <td>4.0 and up</td>\n",
       "    </tr>\n",
       "    <tr>\n",
       "      <th>3910</th>\n",
       "      <td>My Talking Angela</td>\n",
       "      <td>FAMILY</td>\n",
       "      <td>4.5</td>\n",
       "      <td>9876369</td>\n",
       "      <td>99M</td>\n",
       "      <td>100,000,000+</td>\n",
       "      <td>Free</td>\n",
       "      <td>0</td>\n",
       "      <td>Everyone</td>\n",
       "      <td>Casual</td>\n",
       "      <td>July 3, 2018</td>\n",
       "      <td>3.7.2.51</td>\n",
       "      <td>4.1 and up</td>\n",
       "    </tr>\n",
       "    <tr>\n",
       "      <th>6892</th>\n",
       "      <td>Evolution: Battle for Utopia</td>\n",
       "      <td>FAMILY</td>\n",
       "      <td>4.2</td>\n",
       "      <td>246705</td>\n",
       "      <td>27M</td>\n",
       "      <td>1,000,000+</td>\n",
       "      <td>Free</td>\n",
       "      <td>0</td>\n",
       "      <td>Teen</td>\n",
       "      <td>Strategy</td>\n",
       "      <td>May 4, 2018</td>\n",
       "      <td>3.5.2</td>\n",
       "      <td>4.0.3 and up</td>\n",
       "    </tr>\n",
       "    <tr>\n",
       "      <th>7656</th>\n",
       "      <td>Soo Co-op Mobile Banking</td>\n",
       "      <td>FINANCE</td>\n",
       "      <td>4.5</td>\n",
       "      <td>159</td>\n",
       "      <td>14M</td>\n",
       "      <td>1,000+</td>\n",
       "      <td>Free</td>\n",
       "      <td>0</td>\n",
       "      <td>Everyone</td>\n",
       "      <td>Finance</td>\n",
       "      <td>September 12, 2017</td>\n",
       "      <td>4.2.87</td>\n",
       "      <td>4.0.3 and up</td>\n",
       "    </tr>\n",
       "    <tr>\n",
       "      <th>7875</th>\n",
       "      <td>CT MyChiroTown Mobile</td>\n",
       "      <td>MEDICAL</td>\n",
       "      <td>3.9</td>\n",
       "      <td>40</td>\n",
       "      <td>4.0M</td>\n",
       "      <td>5,000+</td>\n",
       "      <td>Free</td>\n",
       "      <td>0</td>\n",
       "      <td>Everyone</td>\n",
       "      <td>Medical</td>\n",
       "      <td>July 7, 2015</td>\n",
       "      <td>4.1.0</td>\n",
       "      <td>2.3.3 and up</td>\n",
       "    </tr>\n",
       "    <tr>\n",
       "      <th>4536</th>\n",
       "      <td>Offroad Pickup Truck R</td>\n",
       "      <td>FAMILY</td>\n",
       "      <td>4.4</td>\n",
       "      <td>6367</td>\n",
       "      <td>96M</td>\n",
       "      <td>1,000,000+</td>\n",
       "      <td>Free</td>\n",
       "      <td>0</td>\n",
       "      <td>Everyone</td>\n",
       "      <td>Simulation</td>\n",
       "      <td>July 14, 2017</td>\n",
       "      <td>1.4</td>\n",
       "      <td>2.3 and up</td>\n",
       "    </tr>\n",
       "    <tr>\n",
       "      <th>934</th>\n",
       "      <td>STARZ</td>\n",
       "      <td>ENTERTAINMENT</td>\n",
       "      <td>4.3</td>\n",
       "      <td>88185</td>\n",
       "      <td>Varies with device</td>\n",
       "      <td>10,000,000+</td>\n",
       "      <td>Free</td>\n",
       "      <td>0</td>\n",
       "      <td>Mature 17+</td>\n",
       "      <td>Entertainment</td>\n",
       "      <td>June 20, 2018</td>\n",
       "      <td>Varies with device</td>\n",
       "      <td>Varies with device</td>\n",
       "    </tr>\n",
       "    <tr>\n",
       "      <th>2340</th>\n",
       "      <td>Pill Identifier and Drug list</td>\n",
       "      <td>MEDICAL</td>\n",
       "      <td>4.0</td>\n",
       "      <td>488</td>\n",
       "      <td>17M</td>\n",
       "      <td>100,000+</td>\n",
       "      <td>Free</td>\n",
       "      <td>0</td>\n",
       "      <td>Everyone</td>\n",
       "      <td>Medical</td>\n",
       "      <td>August 1, 2018</td>\n",
       "      <td>3.8</td>\n",
       "      <td>4.1 and up</td>\n",
       "    </tr>\n",
       "    <tr>\n",
       "      <th>8235</th>\n",
       "      <td>DB for Fallout Shelter</td>\n",
       "      <td>FAMILY</td>\n",
       "      <td>4.0</td>\n",
       "      <td>3323</td>\n",
       "      <td>47M</td>\n",
       "      <td>100,000+</td>\n",
       "      <td>Free</td>\n",
       "      <td>0</td>\n",
       "      <td>Everyone</td>\n",
       "      <td>Simulation</td>\n",
       "      <td>March 29, 2018</td>\n",
       "      <td>1.9</td>\n",
       "      <td>4.0 and up</td>\n",
       "    </tr>\n",
       "  </tbody>\n",
       "</table>\n",
       "</div>"
      ],
      "text/plain": [
       "                                App       Category  Rating  Reviews  \\\n",
       "1563                      metroZONE      LIFESTYLE     4.1    47497   \n",
       "8820                 DS Creator 2.0          TOOLS     1.0        2   \n",
       "3910              My Talking Angela         FAMILY     4.5  9876369   \n",
       "6892   Evolution: Battle for Utopia         FAMILY     4.2   246705   \n",
       "7656       Soo Co-op Mobile Banking        FINANCE     4.5      159   \n",
       "7875          CT MyChiroTown Mobile        MEDICAL     3.9       40   \n",
       "4536         Offroad Pickup Truck R         FAMILY     4.4     6367   \n",
       "934                           STARZ  ENTERTAINMENT     4.3    88185   \n",
       "2340  Pill Identifier and Drug list        MEDICAL     4.0      488   \n",
       "8235         DB for Fallout Shelter         FAMILY     4.0     3323   \n",
       "\n",
       "                    Size      Installs  Type Price Content Rating  \\\n",
       "1563                 34M   10,000,000+  Free     0       Everyone   \n",
       "8820                4.4M          500+  Free     0       Everyone   \n",
       "3910                 99M  100,000,000+  Free     0       Everyone   \n",
       "6892                 27M    1,000,000+  Free     0           Teen   \n",
       "7656                 14M        1,000+  Free     0       Everyone   \n",
       "7875                4.0M        5,000+  Free     0       Everyone   \n",
       "4536                 96M    1,000,000+  Free     0       Everyone   \n",
       "934   Varies with device   10,000,000+  Free     0     Mature 17+   \n",
       "2340                 17M      100,000+  Free     0       Everyone   \n",
       "8235                 47M      100,000+  Free     0       Everyone   \n",
       "\n",
       "             Genres        Last Updated         Current Ver  \\\n",
       "1563      Lifestyle        June 8, 2018          5.3.0.54.7   \n",
       "8820          Tools      March 23, 2018        2.0.180226.1   \n",
       "3910         Casual        July 3, 2018            3.7.2.51   \n",
       "6892       Strategy         May 4, 2018               3.5.2   \n",
       "7656        Finance  September 12, 2017              4.2.87   \n",
       "7875        Medical        July 7, 2015               4.1.0   \n",
       "4536     Simulation       July 14, 2017                 1.4   \n",
       "934   Entertainment       June 20, 2018  Varies with device   \n",
       "2340        Medical      August 1, 2018                 3.8   \n",
       "8235     Simulation      March 29, 2018                 1.9   \n",
       "\n",
       "             Android Ver  \n",
       "1563          5.0 and up  \n",
       "8820          4.0 and up  \n",
       "3910          4.1 and up  \n",
       "6892        4.0.3 and up  \n",
       "7656        4.0.3 and up  \n",
       "7875        2.3.3 and up  \n",
       "4536          2.3 and up  \n",
       "934   Varies with device  \n",
       "2340          4.1 and up  \n",
       "8235          4.0 and up  "
      ]
     },
     "execution_count": 52,
     "metadata": {},
     "output_type": "execute_result"
    }
   ],
   "source": [
    "dt.sample(10)  #random select in dataset"
   ]
  },
  {
   "cell_type": "code",
   "execution_count": 53,
   "id": "fdbcf1e1",
   "metadata": {
    "scrolled": true
   },
   "outputs": [
    {
     "name": "stdout",
     "output_type": "stream",
     "text": [
      "<class 'pandas.core.frame.DataFrame'>\n",
      "RangeIndex: 10841 entries, 0 to 10840\n",
      "Data columns (total 13 columns):\n",
      " #   Column          Non-Null Count  Dtype  \n",
      "---  ------          --------------  -----  \n",
      " 0   App             10841 non-null  object \n",
      " 1   Category        10841 non-null  object \n",
      " 2   Rating          9367 non-null   float64\n",
      " 3   Reviews         10841 non-null  object \n",
      " 4   Size            10841 non-null  object \n",
      " 5   Installs        10841 non-null  object \n",
      " 6   Type            10840 non-null  object \n",
      " 7   Price           10841 non-null  object \n",
      " 8   Content Rating  10840 non-null  object \n",
      " 9   Genres          10841 non-null  object \n",
      " 10  Last Updated    10841 non-null  object \n",
      " 11  Current Ver     10833 non-null  object \n",
      " 12  Android Ver     10838 non-null  object \n",
      "dtypes: float64(1), object(12)\n",
      "memory usage: 1.1+ MB\n"
     ]
    }
   ],
   "source": [
    "dt.info()"
   ]
  },
  {
   "cell_type": "markdown",
   "id": "a0d158c7",
   "metadata": {},
   "source": [
    "# step 2 Data cleaning\n",
    "1.covert data types for better analysis\n",
    "2.Handle missing values\n",
    "3.Remove duplicates\n",
    "4.Detect Outliers and Remove them"
   ]
  },
  {
   "cell_type": "markdown",
   "id": "e57a9aee",
   "metadata": {},
   "source": [
    "1.covert data types for better analysis"
   ]
  },
  {
   "cell_type": "code",
   "execution_count": 54,
   "id": "8bedd384",
   "metadata": {},
   "outputs": [],
   "source": [
    "#price\n",
    "dt[\"Price\"]= dt[\"Price\"] . astype(str).str.replace(\"Everyone\",\"0\")\n",
    "dt[\"Price\"]= dt[\"Price\"].astype(str).str.replace(r\"[^\\d.]\", \"\",regex=True)\n",
    "dt[\"Price\"] =pd.to_numeric(dt[\"Price\"],errors='coerce')\n"
   ]
  },
  {
   "cell_type": "code",
   "execution_count": 55,
   "id": "e5d2d7da",
   "metadata": {},
   "outputs": [],
   "source": [
    "#install\n",
    "dt[\"Installs\"] = dataset[\"Installs\"].str.replace(\"free\", \"0\")\n",
    "dt[\"Installs\"]= dt[\"Installs\"].str.replace(r\"[+,]\",\"\",regex=True)\n",
    "dt[\"Installs\"]=pd.to_numeric(dt[\"Installs\"],errors='coerce')"
   ]
  },
  {
   "cell_type": "code",
   "execution_count": 59,
   "id": "bf06ab7f",
   "metadata": {},
   "outputs": [],
   "source": [
    "dt[\"Last Updated\"]=pd.to_datetime(dt[\"Last Updated\"],errors=\"coerce\")"
   ]
  },
  {
   "cell_type": "code",
   "execution_count": null,
   "id": "a1f4c2ec",
   "metadata": {},
   "outputs": [],
   "source": []
  },
  {
   "cell_type": "code",
   "execution_count": 127,
   "id": "ef1391ad",
   "metadata": {},
   "outputs": [
    {
     "name": "stdout",
     "output_type": "stream",
     "text": [
      "App                       object\n",
      "Category                  object\n",
      "Rating                   float64\n",
      "Reviews                   object\n",
      "Size                      object\n",
      "Installs                 float64\n",
      "Type                      object\n",
      "Price                    float64\n",
      "Content Rating            object\n",
      "Genres                    object\n",
      "Last Updated      datetime64[ns]\n",
      "Current Ver               object\n",
      "Android Ver               object\n",
      "dtype: object\n"
     ]
    }
   ],
   "source": [
    "print(dt.dtypes)"
   ]
  },
  {
   "cell_type": "code",
   "execution_count": 128,
   "id": "5ebaf9ac",
   "metadata": {},
   "outputs": [
    {
     "name": "stdout",
     "output_type": "stream",
     "text": [
      "<class 'pandas.core.frame.DataFrame'>\n",
      "Int64Index: 10357 entries, 0 to 10840\n",
      "Data columns (total 13 columns):\n",
      " #   Column          Non-Null Count  Dtype         \n",
      "---  ------          --------------  -----         \n",
      " 0   App             10357 non-null  object        \n",
      " 1   Category        10357 non-null  object        \n",
      " 2   Rating          10357 non-null  float64       \n",
      " 3   Reviews         10357 non-null  object        \n",
      " 4   Size            10357 non-null  object        \n",
      " 5   Installs        10357 non-null  float64       \n",
      " 6   Type            10357 non-null  object        \n",
      " 7   Price           10357 non-null  float64       \n",
      " 8   Content Rating  10357 non-null  object        \n",
      " 9   Genres          10357 non-null  object        \n",
      " 10  Last Updated    10357 non-null  datetime64[ns]\n",
      " 11  Current Ver     10357 non-null  object        \n",
      " 12  Android Ver     10357 non-null  object        \n",
      "dtypes: datetime64[ns](1), float64(3), object(9)\n",
      "memory usage: 1.1+ MB\n"
     ]
    }
   ],
   "source": [
    "dt.info()"
   ]
  },
  {
   "cell_type": "markdown",
   "id": "308f0a59",
   "metadata": {},
   "source": [
    "2.Handle missing values"
   ]
  },
  {
   "cell_type": "code",
   "execution_count": 61,
   "id": "94f00a55",
   "metadata": {},
   "outputs": [
    {
     "data": {
      "text/plain": [
       "App                  0\n",
       "Category             0\n",
       "Rating            1474\n",
       "Reviews              0\n",
       "Size                 0\n",
       "Installs             1\n",
       "Type                 1\n",
       "Price                0\n",
       "Content Rating       1\n",
       "Genres               0\n",
       "Last Updated         1\n",
       "Current Ver          8\n",
       "Android Ver          3\n",
       "dtype: int64"
      ]
     },
     "execution_count": 61,
     "metadata": {},
     "output_type": "execute_result"
    }
   ],
   "source": [
    "dt.isna().sum()"
   ]
  },
  {
   "cell_type": "code",
   "execution_count": 76,
   "id": "00d26b39",
   "metadata": {},
   "outputs": [],
   "source": [
    "dt[\"Rating\"].fillna(dt[\"Rating\"].median(),inplace=True)"
   ]
  },
  {
   "cell_type": "code",
   "execution_count": 77,
   "id": "20b57787",
   "metadata": {},
   "outputs": [],
   "source": [
    "dt[\"Type\"].fillna(dt[\"Type\"].mode()[0], inplace=True)\n"
   ]
  },
  {
   "cell_type": "code",
   "execution_count": 78,
   "id": "34b337e7",
   "metadata": {},
   "outputs": [],
   "source": [
    "dt[\"Content Rating\"].fillna(dt[\"Content Rating\"].mode()[0],inplace=True)\n"
   ]
  },
  {
   "cell_type": "code",
   "execution_count": 79,
   "id": "0e97658a",
   "metadata": {},
   "outputs": [],
   "source": [
    "dt[\"Current Ver\"].fillna(dt[\"Current Ver\"].mode()[0],inplace=True)"
   ]
  },
  {
   "cell_type": "code",
   "execution_count": 80,
   "id": "5e141f4e",
   "metadata": {},
   "outputs": [],
   "source": [
    "dt[\"Android Ver\"].fillna(dt[\"Android Ver\"].mode()[0],inplace=True)"
   ]
  },
  {
   "cell_type": "code",
   "execution_count": 81,
   "id": "e70c41fc",
   "metadata": {},
   "outputs": [],
   "source": [
    "dt[\"Last Updated\"].fillna(dt[\"Last Updated\"].mode()[0],inplace=True)"
   ]
  },
  {
   "cell_type": "code",
   "execution_count": 82,
   "id": "14bde30e",
   "metadata": {},
   "outputs": [
    {
     "name": "stdout",
     "output_type": "stream",
     "text": [
      "<class 'pandas.core.frame.DataFrame'>\n",
      "RangeIndex: 10841 entries, 0 to 10840\n",
      "Data columns (total 13 columns):\n",
      " #   Column          Non-Null Count  Dtype         \n",
      "---  ------          --------------  -----         \n",
      " 0   App             10841 non-null  object        \n",
      " 1   Category        10841 non-null  object        \n",
      " 2   Rating          10841 non-null  float64       \n",
      " 3   Reviews         10841 non-null  object        \n",
      " 4   Size            10841 non-null  object        \n",
      " 5   Installs        10840 non-null  float64       \n",
      " 6   Type            10841 non-null  object        \n",
      " 7   Price           10841 non-null  float64       \n",
      " 8   Content Rating  10841 non-null  object        \n",
      " 9   Genres          10841 non-null  object        \n",
      " 10  Last Updated    10841 non-null  datetime64[ns]\n",
      " 11  Current Ver     10841 non-null  object        \n",
      " 12  Android Ver     10841 non-null  object        \n",
      "dtypes: datetime64[ns](1), float64(3), object(9)\n",
      "memory usage: 1.1+ MB\n"
     ]
    }
   ],
   "source": [
    "dt.info()\n"
   ]
  },
  {
   "cell_type": "code",
   "execution_count": null,
   "id": "d1a283bf",
   "metadata": {},
   "outputs": [],
   "source": []
  },
  {
   "cell_type": "code",
   "execution_count": 84,
   "id": "d2acd10d",
   "metadata": {},
   "outputs": [
    {
     "data": {
      "text/plain": [
       "App               0\n",
       "Category          0\n",
       "Rating            0\n",
       "Reviews           0\n",
       "Size              0\n",
       "Installs          1\n",
       "Type              0\n",
       "Price             0\n",
       "Content Rating    0\n",
       "Genres            0\n",
       "Last Updated      0\n",
       "Current Ver       0\n",
       "Android Ver       0\n",
       "dtype: int64"
      ]
     },
     "execution_count": 84,
     "metadata": {},
     "output_type": "execute_result"
    }
   ],
   "source": [
    "dt.isna().sum()"
   ]
  },
  {
   "cell_type": "markdown",
   "id": "c5418a0f",
   "metadata": {},
   "source": [
    "3.Remove duplicates"
   ]
  },
  {
   "cell_type": "code",
   "execution_count": 89,
   "id": "7985c971",
   "metadata": {},
   "outputs": [
    {
     "data": {
      "text/plain": [
       "0"
      ]
     },
     "execution_count": 89,
     "metadata": {},
     "output_type": "execute_result"
    }
   ],
   "source": [
    "dt.duplicated().sum()"
   ]
  },
  {
   "cell_type": "code",
   "execution_count": 87,
   "id": "b4ba0823",
   "metadata": {},
   "outputs": [],
   "source": []
  },
  {
   "cell_type": "code",
   "execution_count": 88,
   "id": "7ae370f5",
   "metadata": {},
   "outputs": [],
   "source": [
    "dt=dt.drop_duplicates(keep='first')"
   ]
  },
  {
   "cell_type": "markdown",
   "id": "0351c934",
   "metadata": {},
   "source": [
    "4.Detect Outliers and Remove them"
   ]
  },
  {
   "cell_type": "code",
   "execution_count": 91,
   "id": "b1b99cdf",
   "metadata": {},
   "outputs": [
    {
     "data": {
      "text/html": [
       "<div>\n",
       "<style scoped>\n",
       "    .dataframe tbody tr th:only-of-type {\n",
       "        vertical-align: middle;\n",
       "    }\n",
       "\n",
       "    .dataframe tbody tr th {\n",
       "        vertical-align: top;\n",
       "    }\n",
       "\n",
       "    .dataframe thead th {\n",
       "        text-align: right;\n",
       "    }\n",
       "</style>\n",
       "<table border=\"1\" class=\"dataframe\">\n",
       "  <thead>\n",
       "    <tr style=\"text-align: right;\">\n",
       "      <th></th>\n",
       "      <th>Rating</th>\n",
       "      <th>Installs</th>\n",
       "      <th>Price</th>\n",
       "    </tr>\n",
       "  </thead>\n",
       "  <tbody>\n",
       "    <tr>\n",
       "      <th>count</th>\n",
       "      <td>10358.000000</td>\n",
       "      <td>1.035700e+04</td>\n",
       "      <td>10358.000000</td>\n",
       "    </tr>\n",
       "    <tr>\n",
       "      <th>mean</th>\n",
       "      <td>4.205165</td>\n",
       "      <td>1.415776e+07</td>\n",
       "      <td>1.030701</td>\n",
       "    </tr>\n",
       "    <tr>\n",
       "      <th>std</th>\n",
       "      <td>0.506868</td>\n",
       "      <td>8.023955e+07</td>\n",
       "      <td>16.277843</td>\n",
       "    </tr>\n",
       "    <tr>\n",
       "      <th>min</th>\n",
       "      <td>1.000000</td>\n",
       "      <td>0.000000e+00</td>\n",
       "      <td>0.000000</td>\n",
       "    </tr>\n",
       "    <tr>\n",
       "      <th>25%</th>\n",
       "      <td>4.100000</td>\n",
       "      <td>1.000000e+03</td>\n",
       "      <td>0.000000</td>\n",
       "    </tr>\n",
       "    <tr>\n",
       "      <th>50%</th>\n",
       "      <td>4.300000</td>\n",
       "      <td>1.000000e+05</td>\n",
       "      <td>0.000000</td>\n",
       "    </tr>\n",
       "    <tr>\n",
       "      <th>75%</th>\n",
       "      <td>4.500000</td>\n",
       "      <td>1.000000e+06</td>\n",
       "      <td>0.000000</td>\n",
       "    </tr>\n",
       "    <tr>\n",
       "      <th>max</th>\n",
       "      <td>19.000000</td>\n",
       "      <td>1.000000e+09</td>\n",
       "      <td>400.000000</td>\n",
       "    </tr>\n",
       "  </tbody>\n",
       "</table>\n",
       "</div>"
      ],
      "text/plain": [
       "             Rating      Installs         Price\n",
       "count  10358.000000  1.035700e+04  10358.000000\n",
       "mean       4.205165  1.415776e+07      1.030701\n",
       "std        0.506868  8.023955e+07     16.277843\n",
       "min        1.000000  0.000000e+00      0.000000\n",
       "25%        4.100000  1.000000e+03      0.000000\n",
       "50%        4.300000  1.000000e+05      0.000000\n",
       "75%        4.500000  1.000000e+06      0.000000\n",
       "max       19.000000  1.000000e+09    400.000000"
      ]
     },
     "execution_count": 91,
     "metadata": {},
     "output_type": "execute_result"
    }
   ],
   "source": [
    "dt.describe()"
   ]
  },
  {
   "cell_type": "code",
   "execution_count": 94,
   "id": "5f0317b6",
   "metadata": {},
   "outputs": [
    {
     "name": "stderr",
     "output_type": "stream",
     "text": [
      "C:\\Users\\user\\anaconda3\\lib\\site-packages\\seaborn\\_decorators.py:36: FutureWarning: Pass the following variable as a keyword arg: x. From version 0.12, the only valid positional argument will be `data`, and passing other arguments without an explicit keyword will result in an error or misinterpretation.\n",
      "  warnings.warn(\n",
      "C:\\Users\\user\\anaconda3\\lib\\site-packages\\seaborn\\_decorators.py:36: FutureWarning: Pass the following variable as a keyword arg: x. From version 0.12, the only valid positional argument will be `data`, and passing other arguments without an explicit keyword will result in an error or misinterpretation.\n",
      "  warnings.warn(\n"
     ]
    },
    {
     "data": {
      "image/png": "[encoded data removed]",
      "text/plain": [
       "<Figure size 432x288 with 2 Axes>"
      ]
     },
     "metadata": {
      "needs_background": "light"
     },
     "output_type": "display_data"
    }
   ],
   "source": [
    "plt.subplot(1,2,1)\n",
    "sns.boxplot(dt['Rating'])\n",
    "plt.subplot(1,2,2)\n",
    "sns.boxplot(dt[\"Price\"])\n",
    "plt.show()"
   ]
  },
  {
   "cell_type": "markdown",
   "id": "caccda07",
   "metadata": {},
   "source": [
    "# Lets understand and handle RATING column first for Outlier detection"
   ]
  },
  {
   "cell_type": "code",
   "execution_count": 95,
   "id": "447944d3",
   "metadata": {},
   "outputs": [
    {
     "data": {
      "text/plain": [
       "1"
      ]
     },
     "execution_count": 95,
     "metadata": {},
     "output_type": "execute_result"
    }
   ],
   "source": [
    "(dt[\"Rating\"]>5).sum() # only one value is greater than 5 and its outlier ,we will remove it"
   ]
  },
  {
   "cell_type": "code",
   "execution_count": 96,
   "id": "867c1868",
   "metadata": {},
   "outputs": [],
   "source": [
    "dt=dt[dt[\"Rating\"]<=5]"
   ]
  },
  {
   "cell_type": "code",
   "execution_count": 103,
   "id": "e9919494",
   "metadata": {},
   "outputs": [
    {
     "data": {
      "image/png": "[encoded data removed]",
      "text/plain": [
       "<Figure size 720x360 with 1 Axes>"
      ]
     },
     "metadata": {
      "needs_background": "light"
     },
     "output_type": "display_data"
    }
   ],
   "source": [
    "\n",
    "plt.figure(figsize=(10,5))\n",
    "sns.boxplot(x=dt[\"Rating\"],color=\"skyblue\")\n",
    "plt.title(\"Boxplot of Rating\")\n",
    "plt.show()"
   ]
  },
  {
   "cell_type": "code",
   "execution_count": 100,
   "id": "249e79b5",
   "metadata": {},
   "outputs": [],
   "source": [
    "##Capping if price column outliers using  percentile method"
   ]
  },
  {
   "cell_type": "code",
   "execution_count": 102,
   "id": "2afae246",
   "metadata": {},
   "outputs": [
    {
     "data": {
      "text/plain": [
       "1.99"
      ]
     },
     "execution_count": 102,
     "metadata": {},
     "output_type": "execute_result"
    }
   ],
   "source": [
    "upper_limit=dt[\"Price\"].quantile(0.95) #set upper limit at 95th percentile\n",
    "upper_limit"
   ]
  },
  {
   "cell_type": "code",
   "execution_count": 105,
   "id": "5455c3a0",
   "metadata": {},
   "outputs": [
    {
     "name": "stderr",
     "output_type": "stream",
     "text": [
      "C:\\Users\\user\\AppData\\Local\\Temp\\ipykernel_23456\\1325210236.py:1: SettingWithCopyWarning: \n",
      "A value is trying to be set on a copy of a slice from a DataFrame.\n",
      "Try using .loc[row_indexer,col_indexer] = value instead\n",
      "\n",
      "See the caveats in the documentation: https://pandas.pydata.org/pandas-docs/stable/user_guide/indexing.html#returning-a-view-versus-a-copy\n",
      "  dt[\"Price\"]=dt[\"Price\"].clip(upper=upper_limit)#caping\n"
     ]
    }
   ],
   "source": [
    "dt[\"Price\"]=dt[\"Price\"].clip(upper=upper_limit)#cap value above 95th percentile"
   ]
  },
  {
   "cell_type": "code",
   "execution_count": 106,
   "id": "e15af131",
   "metadata": {},
   "outputs": [
    {
     "data": {
      "image/png": "[encoded data removed]",
      "text/plain": [
       "<Figure size 720x360 with 1 Axes>"
      ]
     },
     "metadata": {
      "needs_background": "light"
     },
     "output_type": "display_data"
    }
   ],
   "source": [
    "plt.figure(figsize=(10,5))\n",
    "sns.boxplot(x=dt[\"Price\"],color=\"skyblue\")\n",
    "plt.title(\"Boxplot of Price\")\n",
    "plt.show()"
   ]
  },
  {
   "cell_type": "markdown",
   "id": "e03f78c4",
   "metadata": {},
   "source": [
    "# 3.Buisness Questions for Analysis"
   ]
  },
  {
   "cell_type": "markdown",
   "id": "dffcb84c",
   "metadata": {},
   "source": [
    "Q.1 what is the averge rating of apps on the play store(non-graphical)"
   ]
  },
  {
   "cell_type": "code",
   "execution_count": 109,
   "id": "64cb3796",
   "metadata": {},
   "outputs": [
    {
     "name": "stdout",
     "output_type": "stream",
     "text": [
      "average rating of apps on the Play Store :4.20\n"
     ]
    }
   ],
   "source": [
    "avg_rating=dt[\"Rating\"].mean()\n",
    "print(f\"average rating of apps on the Play Store :{avg_rating:.2f}\")"
   ]
  },
  {
   "cell_type": "markdown",
   "id": "ce841c72",
   "metadata": {},
   "source": [
    "Q.2 What percentage of apps are free vs paid."
   ]
  },
  {
   "cell_type": "code",
   "execution_count": 113,
   "id": "b768d289",
   "metadata": {},
   "outputs": [
    {
     "name": "stdout",
     "output_type": "stream",
     "text": [
      "Free Apps Percentage:92.61%\n",
      "Paid Apps percentage:7.39%\n"
     ]
    }
   ],
   "source": [
    "total_apps= dt.shape[0]\n",
    "free_apps=dt[dt[\"Type\"] == \"Free\"].shape[0]\n",
    "paid_apps=dt[dt[\"Type\"] == \"Paid\"].shape[0]\n",
    "free_apps_percentage=(free_apps/total_apps)*100\n",
    "paid_apps_percentage=(paid_apps/total_apps)*100\n",
    "\n",
    "print(f\"Free Apps Percentage:{free_apps_percentage:.2f}%\")\n",
    "print(f\"Paid Apps percentage:{paid_apps_percentage:.2f}%\")"
   ]
  },
  {
   "cell_type": "code",
   "execution_count": null,
   "id": "20d58ec9",
   "metadata": {},
   "outputs": [],
   "source": [
    "3.What is the most common app category."
   ]
  },
  {
   "cell_type": "code",
   "execution_count": 118,
   "id": "69e85984",
   "metadata": {},
   "outputs": [
    {
     "data": {
      "text/plain": [
       "FAMILY                 1943\n",
       "GAME                   1121\n",
       "TOOLS                   843\n",
       "BUSINESS                427\n",
       "MEDICAL                 408\n",
       "PRODUCTIVITY            407\n",
       "PERSONALIZATION         388\n",
       "LIFESTYLE               373\n",
       "COMMUNICATION           366\n",
       "FINANCE                 360\n",
       "SPORTS                  351\n",
       "PHOTOGRAPHY             322\n",
       "HEALTH_AND_FITNESS      306\n",
       "SOCIAL                  280\n",
       "NEWS_AND_MAGAZINES      264\n",
       "TRAVEL_AND_LOCAL        237\n",
       "BOOKS_AND_REFERENCE     230\n",
       "SHOPPING                224\n",
       "DATING                  196\n",
       "VIDEO_PLAYERS           175\n",
       "MAPS_AND_NAVIGATION     137\n",
       "EDUCATION               130\n",
       "FOOD_AND_DRINK          124\n",
       "ENTERTAINMENT           111\n",
       "AUTO_AND_VEHICLES        85\n",
       "LIBRARIES_AND_DEMO       85\n",
       "WEATHER                  82\n",
       "HOUSE_AND_HOME           80\n",
       "ART_AND_DESIGN           65\n",
       "EVENTS                   64\n",
       "PARENTING                60\n",
       "COMICS                   60\n",
       "BEAUTY                   53\n",
       "Name: Category, dtype: int64"
      ]
     },
     "execution_count": 118,
     "metadata": {},
     "output_type": "execute_result"
    }
   ],
   "source": [
    "most_common_app_cat= dt[\"Category\"].value_counts()\n",
    "most_common_app_cat"
   ]
  },
  {
   "cell_type": "code",
   "execution_count": 119,
   "id": "5489390b",
   "metadata": {},
   "outputs": [
    {
     "name": "stdout",
     "output_type": "stream",
     "text": [
      "most_common_app_cat:FAMILY\n"
     ]
    }
   ],
   "source": [
    "most_common_app_cat_name= dt[\"Category\"].value_counts().idxmax()\n",
    "print(f\"most_common_app_cat:{most_common_app_cat_name}\")\n"
   ]
  },
  {
   "cell_type": "markdown",
   "id": "b7a71416",
   "metadata": {},
   "source": [
    "Q.4 Which app category has the highest number of apps?(categorical variables)"
   ]
  },
  {
   "cell_type": "code",
   "execution_count": null,
   "id": "59de8ad4",
   "metadata": {},
   "outputs": [],
   "source": []
  },
  {
   "cell_type": "code",
   "execution_count": 133,
   "id": "ff442d0f",
   "metadata": {},
   "outputs": [
    {
     "data": {
      "text/plain": [
       "Text(0, 0.5, 'number of apps')"
      ]
     },
     "execution_count": 133,
     "metadata": {},
     "output_type": "execute_result"
    },
    {
     "data": {
      "image/png": "[encoded data removed]",
      "text/plain": [
       "<Figure size 720x720 with 1 Axes>"
      ]
     },
     "metadata": {
      "needs_background": "light"
     },
     "output_type": "display_data"
    }
   ],
   "source": [
    "most_common_app_cat = dt[\"Category\"].value_counts().head(10)#top ten name \n",
    "plt.figure(figsize=(10,10))\n",
    "sns.barplot(x=most_common_app_cat.index,y=most_common_app_cat.values)\n",
    "plt.xticks(rotation=45)\n",
    "plt.xlabel(\"category\")\n",
    "plt.ylabel(\"number of apps\")"
   ]
  },
  {
   "cell_type": "markdown",
   "id": "ab49d9c4",
   "metadata": {},
   "source": [
    "Q.5 WHAT IS  THE distribution of content ratings?"
   ]
  },
  {
   "cell_type": "code",
   "execution_count": 181,
   "id": "05c34475",
   "metadata": {},
   "outputs": [
    {
     "data": {
      "image/png": "[encoded data removed]",
      "text/plain": [
       "<Figure size 720x360 with 1 Axes>"
      ]
     },
     "metadata": {
      "needs_background": "light"
     },
     "output_type": "display_data"
    }
   ],
   "source": [
    "content_Rating =dt[\"Content Rating\"].value_counts()# for counts \n",
    "plt.figure(figsize=(10,5))\n",
    "sns.barplot(x=content_Rating.index ,y=content_Rating.values ,palette='dark')\n",
    "plt.xlabel(\"Content Rating\")\n",
    "plt.title(\"Distribution of content ratings\")\n",
    "plt.ylabel(\"Number of Apps\")\n",
    "plt.show()#rating is the most common"
   ]
  },
  {
   "cell_type": "markdown",
   "id": "87dd9714",
   "metadata": {},
   "source": [
    "6. How many apps belong to the 5 most popular categories?"
   ]
  },
  {
   "cell_type": "code",
   "execution_count": 182,
   "id": "8ace0a1c",
   "metadata": {},
   "outputs": [
    {
     "data": {
      "text/plain": [
       "Text(0, 0.5, 'number of apps')"
      ]
     },
     "execution_count": 182,
     "metadata": {},
     "output_type": "execute_result"
    },
    {
     "data": {
      "image/png": "[encoded data removed]",
      "text/plain": [
       "<Figure size 720x720 with 1 Axes>"
      ]
     },
     "metadata": {
      "needs_background": "light"
     },
     "output_type": "display_data"
    }
   ],
   "source": [
    "most_common_app_cat = dt[\"Category\"].value_counts().head(5)#top ten name \n",
    "plt.figure(figsize=(10,10))\n",
    "sns.barplot(x=most_common_app_cat.index,y=most_common_app_cat.values)\n",
    "plt.xticks(rotation=45)\n",
    "plt.title(\"Top 5 most Popular App Categories\")\n",
    "plt.xlabel(\"category\")\n",
    "plt.ylabel(\"number of apps\")"
   ]
  },
  {
   "cell_type": "markdown",
   "id": "eed1dfad",
   "metadata": {},
   "source": [
    "Q.7 What is the most common rating given to apps?(Numerical variables)"
   ]
  },
  {
   "cell_type": "code",
   "execution_count": 145,
   "id": "688b888e",
   "metadata": {},
   "outputs": [
    {
     "data": {
      "text/plain": [
       "Text(0.5, 1.0, 'Most Common rating given to apps')"
      ]
     },
     "execution_count": 145,
     "metadata": {},
     "output_type": "execute_result"
    },
    {
     "data": {
      "image/png": "[encoded data removed]",
      "text/plain": [
       "<Figure size 720x360 with 1 Axes>"
      ]
     },
     "metadata": {
      "needs_background": "light"
     },
     "output_type": "display_data"
    }
   ],
   "source": [
    "plt.figure(figsize=(10,5))\n",
    "sns.histplot(dataset['Rating'],bins=10)\n",
    "plt.title(\"Most Common rating given to apps\")"
   ]
  },
  {
   "cell_type": "markdown",
   "id": "27f38f79",
   "metadata": {},
   "source": [
    "Q.8 How are app prices distributed?"
   ]
  },
  {
   "cell_type": "code",
   "execution_count": 150,
   "id": "e255fa5b",
   "metadata": {},
   "outputs": [
    {
     "data": {
      "text/plain": [
       "<function matplotlib.pyplot.show(close=None, block=None)>"
      ]
     },
     "execution_count": 150,
     "metadata": {},
     "output_type": "execute_result"
    },
    {
     "data": {
      "image/png": "[encoded data removed]",
      "text/plain": [
       "<Figure size 576x360 with 1 Axes>"
      ]
     },
     "metadata": {
      "needs_background": "light"
     },
     "output_type": "display_data"
    }
   ],
   "source": [
    "plt.figure(figsize=(8,5))\n",
    "plt.boxplot(dt[\"Price\"])\n",
    "plt.title(\"app prices distributd\")\n",
    "plt.xlabel(\"Prices\")\n",
    "plt.show"
   ]
  },
  {
   "cell_type": "markdown",
   "id": "a89f1059",
   "metadata": {},
   "source": [
    "Q.9 Do free apps have better  ratings than paid apps?(Numerical vs CAtegorical)"
   ]
  },
  {
   "cell_type": "code",
   "execution_count": null,
   "id": "08e5e7e8",
   "metadata": {},
   "outputs": [],
   "source": []
  },
  {
   "cell_type": "code",
   "execution_count": 158,
   "id": "6e26e03e",
   "metadata": {},
   "outputs": [
    {
     "name": "stdout",
     "output_type": "stream",
     "text": [
      "Averge Rating for free Apps:4.20\n",
      "Averge Rating For Paid Apps:4.20\n"
     ]
    }
   ],
   "source": [
    "free_apps_avg_rating=dt[dt[\"Type\"]==\"Free\"][\"Rating\"].mean()\n",
    "paid_apps_avg_rating=dt[dt[\"Type\"]==\"Paid\"][\"Rating\"].mean()\n",
    "print(f\"Averge Rating for free Apps:{free_apps_avg_rating:.2f}\")\n",
    "print(f\"Averge Rating For Paid Apps:{free_apps_avg_rating:.2f}\")"
   ]
  },
  {
   "cell_type": "markdown",
   "id": "6b9efc75",
   "metadata": {},
   "source": [
    "Q.10  which app categories have the highest averge ratings? "
   ]
  },
  {
   "cell_type": "code",
   "execution_count": 180,
   "id": "ba9d84ad",
   "metadata": {},
   "outputs": [
    {
     "data": {
      "text/plain": [
       "Category\n",
       "EVENTS                 4.395313\n",
       "EDUCATION              4.375385\n",
       "ART_AND_DESIGN         4.355385\n",
       "BOOKS_AND_REFERENCE    4.336522\n",
       "PERSONALIZATION        4.327062\n",
       "PARENTING              4.300000\n",
       "BEAUTY                 4.283019\n",
       "GAME                   4.282070\n",
       "HEALTH_AND_FITNESS     4.266993\n",
       "SOCIAL                 4.260714\n",
       "Name: Rating, dtype: float64"
      ]
     },
     "execution_count": 180,
     "metadata": {},
     "output_type": "execute_result"
    }
   ],
   "source": [
    "category_avg_rating =dt.groupby(\"Category\")[\"Rating\"].mean().sort_values(ascending=False)\n",
    "category_avg_rating.head(10)"
   ]
  },
  {
   "cell_type": "markdown",
   "id": "fa14cb72",
   "metadata": {},
   "source": [
    "Q.11 does a higher number of innstalls correlate with higher ratings?"
   ]
  },
  {
   "cell_type": "code",
   "execution_count": 164,
   "id": "aa3ed101",
   "metadata": {},
   "outputs": [
    {
     "data": {
      "image/png": "[encoded data removed]",
      "text/plain": [
       "<Figure size 720x360 with 1 Axes>"
      ]
     },
     "metadata": {
      "needs_background": "light"
     },
     "output_type": "display_data"
    }
   ],
   "source": [
    "plt.figure(figsize=(10,5))\n",
    "sns.scatterplot(x=dt[\"Installs\"],y=dt[\"Rating\"],alpha=0.5)\n",
    "plt.title(\"Installs vs Ratings\")\n",
    "plt.xscale(\"log\")\n",
    "\n",
    "plt.xlabel(\"No of Installs\")\n",
    "plt.ylabel(\"App Ratings\")\n",
    "plt.show() # strong correlation between installs and ratings."
   ]
  },
  {
   "cell_type": "markdown",
   "id": "69d03ec0",
   "metadata": {},
   "source": [
    "Q.12 Do paid apps generate more installs than free apps?"
   ]
  },
  {
   "cell_type": "code",
   "execution_count": 168,
   "id": "1d7f0565",
   "metadata": {},
   "outputs": [
    {
     "name": "stdout",
     "output_type": "stream",
     "text": [
      "Average Installs of free Apps:15279679.80\n",
      "Average Installs of Paid Apps:90491.35\n"
     ]
    }
   ],
   "source": [
    "free_installs=dt[dt[\"Type\"]==\"Free\"][\"Installs\"].mean()\n",
    "paid_installs=dt[dt[\"Type\"]==\"Paid\"][\"Installs\"].mean()\n",
    "print(f\"Average Installs of free Apps:{free_installs:.2f}\")\n",
    "print(f\"Average Installs of Paid Apps:{paid_installs:.2f}\")\n"
   ]
  },
  {
   "cell_type": "markdown",
   "id": "f9ac8bb9",
   "metadata": {},
   "source": [
    "Q.13 Are expensive apps rated higher than free apps?"
   ]
  },
  {
   "cell_type": "code",
   "execution_count": 185,
   "id": "1a8db7ea",
   "metadata": {},
   "outputs": [
    {
     "data": {
      "text/plain": [
       "<function matplotlib.pyplot.show(close=None, block=None)>"
      ]
     },
     "execution_count": 185,
     "metadata": {},
     "output_type": "execute_result"
    },
    {
     "data": {
      "image/png": "[encoded data removed]",
      "text/plain": [
       "<Figure size 720x360 with 1 Axes>"
      ]
     },
     "metadata": {
      "needs_background": "light"
     },
     "output_type": "display_data"
    }
   ],
   "source": [
    "plt.figure(figsize=(10,5))\n",
    "sns.scatterplot(x=dt[\"Price\"],y=dt[\"Rating\"])\n",
    "plt.title(\"Price vs rating\")\n",
    "plt.xscale(\"log\")\n",
    "plt.xlabel(\"price\")\n",
    "plt.ylabel(\"App_rating\")\n",
    "\n",
    "plt.show"
   ]
  },
  {
   "cell_type": "markdown",
   "id": "a00c6834",
   "metadata": {},
   "source": [
    "Q.14 which categories have the most paid apps?(Categorical vs categorical)"
   ]
  },
  {
   "cell_type": "code",
   "execution_count": 175,
   "id": "bfbba425",
   "metadata": {},
   "outputs": [
    {
     "data": {
      "image/png": "[encoded data removed]",
      "text/plain": [
       "<Figure size 2592x432 with 1 Axes>"
      ]
     },
     "metadata": {
      "needs_background": "light"
     },
     "output_type": "display_data"
    }
   ],
   "source": [
    "plt.figure(figsize=(36,6))\n",
    "sns.countplot(x=\"Category\",hue=\"Type\",data=dt)\n",
    "plt.xticks(rotation=45)\n",
    "plt.show()"
   ]
  },
  {
   "cell_type": "markdown",
   "id": "50f03d3e",
   "metadata": {},
   "source": [
    "# Thank you "
   ]
  },
  {
   "cell_type": "code",
   "execution_count": null,
   "id": "46e788da",
   "metadata": {},
   "outputs": [],
   "source": []
  }
 ],
 "metadata": {
  "kernelspec": {
   "display_name": "Python 3 (ipykernel)",
   "language": "python",
   "name": "python3"
  },
  "language_info": {
   "codemirror_mode": {
    "name": "ipython",
    "version": 3
   },
   "file_extension": ".py",
   "mimetype": "text/x-python",
   "name": "python",
   "nbconvert_exporter": "python",
   "pygments_lexer": "ipython3",
   "version": "3.9.12"
  }
 },
 "nbformat": 4,
 "nbformat_minor": 5
}
